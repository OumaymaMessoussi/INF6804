{
 "cells": [
  {
   "cell_type": "markdown",
   "metadata": {},
   "source": [
    "<h1 align=\"center\"> INF6804 Lab 1: Lucas Kanade Optical Flow </h1>\n",
    "<br>\n",
    "<h3 align=\"center\"> Daniel Wang, Oumayma Messoussi </h3>\n",
    "<br>"
   ]
  },
  {
   "cell_type": "markdown",
   "metadata": {},
   "source": [
    "#### Combining CDNet images into a video using OpenCV"
   ]
  },
  {
   "cell_type": "code",
   "execution_count": 10,
   "metadata": {},
   "outputs": [
    {
     "name": "stdout",
     "output_type": "stream",
     "text": [
      "Video compilation for .\\CDNet\\Bad Weather\n",
      "\tReading input images..\n",
      "\tAll images read\n",
      "\t\tCompiling .\\CDNet\\Bad Weather.mp4 at 10fps ..\n",
      "\t\tVideo .\\CDNet\\Bad Weather-10fps.mp4 ready\n",
      "\n",
      "Video compilation for .\\CDNet\\Camera Jitter\n",
      "\tReading input images..\n",
      "\tAll images read\n",
      "\t\tCompiling .\\CDNet\\Camera Jitter.mp4 at 10fps ..\n",
      "\t\tVideo .\\CDNet\\Camera Jitter-10fps.mp4 ready\n",
      "\n",
      "Video compilation for .\\CDNet\\Night Videos\n",
      "\tReading input images..\n",
      "\tAll images read\n",
      "\t\tCompiling .\\CDNet\\Night Videos.mp4 at 10fps ..\n",
      "\t\tVideo .\\CDNet\\Night Videos-10fps.mp4 ready\n",
      "\n"
     ]
    }
   ],
   "source": [
    "# Source: https://theailearner.com/2018/10/15/creating-video-from-images-using-opencv-python/ (with modifications)\n",
    "\n",
    "import cv2\n",
    "import numpy as np\n",
    "import glob\n",
    " \n",
    "img_array = []\n",
    "fps = 10\n",
    "\n",
    "for folder in glob.glob('.\\CDNet\\*'):\n",
    "    print('Video compilation for ' + folder)\n",
    "    print('\\tReading input images..')\n",
    "    for filename in glob.glob(folder + '\\*\\input\\*.jpg'):\n",
    "        img = cv2.imread(filename)\n",
    "        height, width, layers = img.shape\n",
    "        size = (width, height)\n",
    "        img_array.append(img)\n",
    "    \n",
    "    print('\\tAll images read')\n",
    "    print('\\t\\tCompiling ' + folder + '.mp4 at ' + str(fps) + 'fps ..')\n",
    " \n",
    "    out = cv2.VideoWriter(folder + '-' + str(fps) + 'fps.mp4', cv2.VideoWriter_fourcc(*'DIVX'), fps, size)\n",
    " \n",
    "    for i in range(len(img_array)):\n",
    "        out.write(img_array[i])\n",
    "        \n",
    "    print('\\t\\tVideo ' + folder + '-' + str(fps) + 'fps.mp4 ready\\n')\n",
    "    \n",
    "out.release()"
   ]
  }
 ],
 "metadata": {
  "kernelspec": {
   "display_name": "Python 3",
   "language": "python",
   "name": "python3"
  },
  "language_info": {
   "codemirror_mode": {
    "name": "ipython",
    "version": 3
   },
   "file_extension": ".py",
   "mimetype": "text/x-python",
   "name": "python",
   "nbconvert_exporter": "python",
   "pygments_lexer": "ipython3",
   "version": "3.6.9"
  }
 },
 "nbformat": 4,
 "nbformat_minor": 2
}

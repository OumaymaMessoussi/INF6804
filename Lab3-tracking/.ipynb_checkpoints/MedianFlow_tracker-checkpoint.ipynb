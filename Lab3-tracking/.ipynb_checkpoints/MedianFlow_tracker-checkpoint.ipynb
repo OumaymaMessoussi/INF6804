{
 "cells": [
  {
   "cell_type": "markdown",
   "metadata": {},
   "source": [
    "<h1 align=\"center\"> INF6804 Lab 3: MedianFlow tracker </h1>\n",
    "<br>\n",
    "<h3 align=\"center\"> Daniel Wang, Oumayma Messoussi </h3>\n",
    "<br>"
   ]
  },
  {
   "cell_type": "code",
   "execution_count": 1,
   "metadata": {},
   "outputs": [],
   "source": [
    "from main import *"
   ]
  },
  {
   "cell_type": "code",
   "execution_count": 2,
   "metadata": {},
   "outputs": [],
   "source": [
    "def track(folder, gt):\n",
    "    \"\"\"\n",
    "    code for your tracker.\n",
    "    :param folder: path to the folder containing the frames of the video sequence.\n",
    "    :param gt: box location for each frame (output of read_ground_truth).\n",
    "    :return: dict with an entry for each frame being a tuple (x, y, width, height)\n",
    "    \"\"\"\n",
    "    # TODO: code for tracking an object in a given sequence.\n",
    "    \n",
    "    print_counter = 0\n",
    "    \n",
    "    # Reading frames\n",
    "    frames = get_frames(folder)\n",
    "    \n",
    "    # Initializing tracker\n",
    "    mf = cv2.TrackerMedianFlow_create()\n",
    "    \n",
    "    frame = cv2.imread(frames[0], cv2.IMREAD_COLOR)\n",
    "    box = init_tracker(gt)\n",
    "    ok = mf.init(frame, box)\n",
    "    \n",
    "    # Dictionary to contain all predicted tracks\n",
    "    tracks = {0: (int(box[0]), int(box[1]), int(box[2]), int(box[3]))}\n",
    "\n",
    "    for i, path in enumerate(frames):\n",
    "        gt_box = gt[i]\n",
    "        frame = cv2.imread(path, cv2.IMREAD_COLOR)\n",
    "        \n",
    "        # Tracker update\n",
    "        ok, box = mf.update(frame)\n",
    "        \n",
    "        if ok:\n",
    "            # Adding prediction to the dict\n",
    "            tracks[i] = (int(box[0]), int(box[1]), int(box[2]), int(box[3]))\n",
    "\n",
    "            # Visualizing results\n",
    "            cv2.rectangle(frame, (int(box[0]), int(box[1])), (int(box[0] + box[2]), int(box[1] + box[3])), color=(255, 0, 0))\n",
    "        \n",
    "        else:\n",
    "            tracks[i] = (0, 0, 0, 0)\n",
    "            cv2.putText(frame, \"Tracker failed\", (frame.shape[0]//2, frame.shape[1]//2), \n",
    "                        cv2.FONT_HERSHEY_SIMPLEX, 0.75, (255, 0, 0), 2)\n",
    "        \n",
    "        cv2.rectangle(frame, (gt_box[0], gt_box[1]), (gt_box[0] + gt_box[2], gt_box[1] + gt_box[3]), color=(0, 0, 255))\n",
    "        cv2.imshow('frame', frame)\n",
    "        key = cv2.waitKey(delay=24)\n",
    "        if key == ord('q'):\n",
    "            break\n",
    "        elif key == ord('s'):\n",
    "            print_counter += 1\n",
    "            cv2.imwrite('submission/'+folder.split('/')[1]+'_sample_'+str(print_counter)+'.jpg', frame)\n",
    "    cv2.destroyAllWindows()\n",
    "    \n",
    "    return tracks"
   ]
  },
  {
   "cell_type": "markdown",
   "metadata": {},
   "source": [
    "## Subset 1"
   ]
  },
  {
   "cell_type": "code",
   "execution_count": 4,
   "metadata": {
    "scrolled": true
   },
   "outputs": [
    {
     "name": "stdout",
     "output_type": "stream",
     "text": [
      "IOU 30%\n",
      "\taccuracy = 0.6383763837638377, robustness = 0.7271472695154657\n"
     ]
    }
   ],
   "source": [
    "frames_folder = 'VOT2013/bicycle/images'\n",
    "path_gt = 'VOT2013/bicycle/annotations/groundtruth.txt'\n",
    "\n",
    "gt = read_ground_truth(path_gt)\n",
    "# test_ground_truth(frames_folder, gt)\n",
    "\n",
    "predictions = track(frames_folder, gt)\n",
    "\n",
    "accuracy, robustness = evaluate(predictions, gt, iou_cutoff=0.3)\n",
    "print(f'IOU 30%\\n\\taccuracy = {accuracy}, robustness = {robustness}')"
   ]
  },
  {
   "cell_type": "code",
   "execution_count": 21,
   "metadata": {},
   "outputs": [
    {
     "name": "stdout",
     "output_type": "stream",
     "text": [
      "IOU 50%\n",
      "\taccuracy = 0.6125461254612546, robustness = 0.7403715973376077\n"
     ]
    }
   ],
   "source": [
    "accuracy, robustness = evaluate(predictions, gt, iou_cutoff=0.5)\n",
    "print(f'IOU 50%\\n\\taccuracy = {accuracy}, robustness = {robustness}')"
   ]
  },
  {
   "cell_type": "code",
   "execution_count": 22,
   "metadata": {},
   "outputs": [
    {
     "name": "stdout",
     "output_type": "stream",
     "text": [
      "IOU 70%\n",
      "\taccuracy = 0.4132841328413284, robustness = 0.80064612761446\n"
     ]
    }
   ],
   "source": [
    "accuracy, robustness = evaluate(predictions, gt, iou_cutoff=0.7)\n",
    "print(f'IOU 70%\\n\\taccuracy = {accuracy}, robustness = {robustness}')"
   ]
  },
  {
   "cell_type": "markdown",
   "metadata": {},
   "source": [
    "## Subset 2"
   ]
  },
  {
   "cell_type": "code",
   "execution_count": 9,
   "metadata": {
    "scrolled": true
   },
   "outputs": [
    {
     "name": "stdout",
     "output_type": "stream",
     "text": [
      "IOU 30%\n",
      "\taccuracy = 1.0, robustness = 0.6467377195301438\n"
     ]
    }
   ],
   "source": [
    "frames_folder = 'VOT2013/david/images'\n",
    "path_gt = 'VOT2013/david/annotations/groundtruth.txt'\n",
    "\n",
    "gt = read_ground_truth(path_gt)\n",
    "# test_ground_truth(frames_folder, gt)\n",
    "\n",
    "predictions = track(frames_folder, gt)\n",
    "\n",
    "accuracy, robustness = evaluate(predictions, gt, iou_cutoff=0.3)\n",
    "print(f'IOU 30%\\n\\taccuracy = {accuracy}, robustness = {robustness}')"
   ]
  },
  {
   "cell_type": "code",
   "execution_count": 24,
   "metadata": {},
   "outputs": [
    {
     "name": "stdout",
     "output_type": "stream",
     "text": [
      "IOU 50%\n",
      "\taccuracy = 0.8753246753246753, robustness = 0.6732235444395276\n"
     ]
    }
   ],
   "source": [
    "accuracy, robustness = evaluate(predictions, gt, iou_cutoff=0.5)\n",
    "print(f'IOU 50%\\n\\taccuracy = {accuracy}, robustness = {robustness}')"
   ]
  },
  {
   "cell_type": "code",
   "execution_count": 25,
   "metadata": {},
   "outputs": [
    {
     "name": "stdout",
     "output_type": "stream",
     "text": [
      "IOU 70%\n",
      "\taccuracy = 0.3246753246753247, robustness = 0.7694449122610082\n"
     ]
    }
   ],
   "source": [
    "accuracy, robustness = evaluate(predictions, gt, iou_cutoff=0.7)\n",
    "print(f'IOU 70%\\n\\taccuracy = {accuracy}, robustness = {robustness}')"
   ]
  },
  {
   "cell_type": "markdown",
   "metadata": {},
   "source": [
    "## Subset 3"
   ]
  },
  {
   "cell_type": "code",
   "execution_count": 8,
   "metadata": {
    "scrolled": true
   },
   "outputs": [
    {
     "name": "stdout",
     "output_type": "stream",
     "text": [
      "IOU 30%\n",
      "\taccuracy = 0.4251207729468599, robustness = 0.7860043894206807\n"
     ]
    }
   ],
   "source": [
    "frames_folder = 'VOT2013/gymnastics/images'\n",
    "path_gt = 'VOT2013/gymnastics/annotations/groundtruth.txt'\n",
    "\n",
    "gt = read_ground_truth(path_gt)\n",
    "# test_ground_truth(frames_folder, gt)\n",
    "\n",
    "predictions = track(frames_folder, gt)\n",
    "\n",
    "accuracy, robustness = evaluate(predictions, gt, iou_cutoff=0.3)\n",
    "print(f'IOU 30%\\n\\taccuracy = {accuracy}, robustness = {robustness}')"
   ]
  },
  {
   "cell_type": "code",
   "execution_count": 10,
   "metadata": {},
   "outputs": [
    {
     "name": "stdout",
     "output_type": "stream",
     "text": [
      "IOU 50%\n",
      "\taccuracy = 0.3961352657004831, robustness = 0.8154540901198275\n"
     ]
    }
   ],
   "source": [
    "accuracy, robustness = evaluate(predictions, gt, iou_cutoff=0.5)\n",
    "print(f'IOU 50%\\n\\taccuracy = {accuracy}, robustness = {robustness}')"
   ]
  },
  {
   "cell_type": "code",
   "execution_count": 11,
   "metadata": {},
   "outputs": [
    {
     "name": "stdout",
     "output_type": "stream",
     "text": [
      "IOU 70%\n",
      "\taccuracy = 0.3333333333333333, robustness = 0.8519409048754225\n"
     ]
    }
   ],
   "source": [
    "accuracy, robustness = evaluate(predictions, gt, iou_cutoff=0.7)\n",
    "print(f'IOU 70%\\n\\taccuracy = {accuracy}, robustness = {robustness}')"
   ]
  },
  {
   "cell_type": "markdown",
   "metadata": {},
   "source": [
    "## Subset 4"
   ]
  },
  {
   "cell_type": "code",
   "execution_count": 3,
   "metadata": {
    "scrolled": true
   },
   "outputs": [
    {
     "name": "stdout",
     "output_type": "stream",
     "text": [
      "IOU 30%\n",
      "\taccuracy = 1.0, robustness = 0.8908531557529794\n"
     ]
    }
   ],
   "source": [
    "frames_folder = 'VOT2013/juice/images'\n",
    "path_gt = 'VOT2013/juice/annotations/groundtruth.txt'\n",
    "\n",
    "gt = read_ground_truth(path_gt)\n",
    "# test_ground_truth(frames_folder, gt)\n",
    "\n",
    "predictions = track(frames_folder, gt)\n",
    "\n",
    "accuracy, robustness = evaluate(predictions, gt, iou_cutoff=0.3)\n",
    "print(f'IOU 30%\\n\\taccuracy = {accuracy}, robustness = {robustness}')"
   ]
  },
  {
   "cell_type": "code",
   "execution_count": 4,
   "metadata": {},
   "outputs": [
    {
     "name": "stdout",
     "output_type": "stream",
     "text": [
      "IOU 50%\n",
      "\taccuracy = 1.0, robustness = 0.8908531557529794\n"
     ]
    }
   ],
   "source": [
    "accuracy, robustness = evaluate(predictions, gt, iou_cutoff=0.5)\n",
    "print(f'IOU 50%\\n\\taccuracy = {accuracy}, robustness = {robustness}')"
   ]
  },
  {
   "cell_type": "code",
   "execution_count": 5,
   "metadata": {},
   "outputs": [
    {
     "name": "stdout",
     "output_type": "stream",
     "text": [
      "IOU 70%\n",
      "\taccuracy = 1.0, robustness = 0.8908531557529794\n"
     ]
    }
   ],
   "source": [
    "accuracy, robustness = evaluate(predictions, gt, iou_cutoff=0.7)\n",
    "print(f'IOU 70%\\n\\taccuracy = {accuracy}, robustness = {robustness}')"
   ]
  },
  {
   "cell_type": "code",
   "execution_count": 9,
   "metadata": {},
   "outputs": [
    {
     "name": "stdout",
     "output_type": "stream",
     "text": [
      "IOU 80%\n",
      "\taccuracy = 0.9826732673267327, robustness = 0.8928309772147403\n"
     ]
    }
   ],
   "source": [
    "accuracy, robustness = evaluate(predictions, gt, iou_cutoff=0.8)\n",
    "print(f'IOU 80%\\n\\taccuracy = {accuracy}, robustness = {robustness}')"
   ]
  }
 ],
 "metadata": {
  "kernelspec": {
   "display_name": "Python 3",
   "language": "python",
   "name": "python3"
  },
  "language_info": {
   "codemirror_mode": {
    "name": "ipython",
    "version": 3
   },
   "file_extension": ".py",
   "mimetype": "text/x-python",
   "name": "python",
   "nbconvert_exporter": "python",
   "pygments_lexer": "ipython3",
   "version": "3.6.9"
  }
 },
 "nbformat": 4,
 "nbformat_minor": 2
}

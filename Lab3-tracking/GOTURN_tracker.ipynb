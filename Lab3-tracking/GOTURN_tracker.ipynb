{
 "cells": [
  {
   "cell_type": "code",
   "execution_count": 1,
   "metadata": {},
   "outputs": [],
   "source": [
    "from main import *"
   ]
  },
  {
   "cell_type": "code",
   "execution_count": 42,
   "metadata": {},
   "outputs": [],
   "source": [
    "def track(folder, gt):\n",
    "    \"\"\"\n",
    "    code for your tracker.\n",
    "    :param folder: path to the folder containing the frames of the video sequence.\n",
    "    :param gt: box location for each frame (output of read_ground_truth).\n",
    "    :return: dict with an entry for each frame being a tuple (x, y, width, height)\n",
    "    \"\"\"\n",
    "    # TODO: code for tracking an object in a given sequence.\n",
    "    \n",
    "    # Reading frames\n",
    "    frames = get_frames(folder)\n",
    "    \n",
    "    # Initializing tracker\n",
    "    goturn = cv2.TrackerGOTURN_create()\n",
    "    \n",
    "    frame = cv2.imread(frames[0], cv2.IMREAD_COLOR)\n",
    "    box = init_tracker(gt)\n",
    "    ok = goturn.init(frame, box)\n",
    "    \n",
    "    # Dictionary to contain all predicted tracks\n",
    "    tracks = {0: (int(box[0]), int(box[1]), int(box[2]), int(box[3]))}\n",
    "\n",
    "    for i, path in enumerate(frames):\n",
    "        gt_box = gt[i]\n",
    "        frame = cv2.imread(path, cv2.IMREAD_COLOR)\n",
    "        \n",
    "        # Tracker update\n",
    "        ok, box = goturn.update(frame)\n",
    "        \n",
    "        if ok:\n",
    "            # Adding prediction to the dict\n",
    "            tracks[i] = (int(box[0]), int(box[1]), int(box[2]), int(box[3]))\n",
    "\n",
    "            # Visualizing results\n",
    "            cv2.rectangle(frame, (int(box[0]), int(box[1])), (int(box[0] + box[2]), int(box[1] + box[3])), color=(255, 0, 0))\n",
    "        \n",
    "        else:\n",
    "            tracks[i] = (0, 0, 0, 0)\n",
    "            cv2.putText(frame, \"Tracker failed\", (frame.shape[0]//2, frame.shape[1]//2), \n",
    "                        cv2.FONT_HERSHEY_SIMPLEX, 0.75, (255, 0, 0), 2)\n",
    "        \n",
    "        cv2.rectangle(frame, (gt_box[0], gt_box[1]), (gt_box[0] + gt_box[2], gt_box[1] + gt_box[3]), color=(0, 0, 255))\n",
    "        cv2.imshow('frame', frame)\n",
    "        key = cv2.waitKey(delay=24)\n",
    "        if key == ord('q'):\n",
    "            break\n",
    "    cv2.destroyAllWindows()\n",
    "    \n",
    "    return tracks"
   ]
  },
  {
   "cell_type": "markdown",
   "metadata": {},
   "source": [
    "## Subset 1"
   ]
  },
  {
   "cell_type": "code",
   "execution_count": 43,
   "metadata": {
    "scrolled": true
   },
   "outputs": [
    {
     "name": "stdout",
     "output_type": "stream",
     "text": [
      "IOU 30%\n",
      "\taccuracy = 0.4575645756457565, robustness = 0.5860781487010137\n"
     ]
    }
   ],
   "source": [
    "frames_folder = 'VOT2013/bicycle/images'\n",
    "path_gt = 'VOT2013/bicycle/annotations/groundtruth.txt'\n",
    "\n",
    "gt = read_ground_truth(path_gt)\n",
    "# test_ground_truth(frames_folder, gt)\n",
    "\n",
    "predictions = track(frames_folder, gt)\n",
    "\n",
    "accuracy, robustness = evaluate(predictions, gt, iou_cutoff=0.3)\n",
    "print(f'IOU 30%\\n\\taccuracy = {accuracy}, robustness = {robustness}')"
   ]
  },
  {
   "cell_type": "code",
   "execution_count": 44,
   "metadata": {},
   "outputs": [
    {
     "name": "stdout",
     "output_type": "stream",
     "text": [
      "IOU 50%\n",
      "\taccuracy = 0.33210332103321033, robustness = 0.6466333733719776\n"
     ]
    }
   ],
   "source": [
    "accuracy, robustness = evaluate(predictions, gt, iou_cutoff=0.5)\n",
    "print(f'IOU 50%\\n\\taccuracy = {accuracy}, robustness = {robustness}')"
   ]
  },
  {
   "cell_type": "code",
   "execution_count": 25,
   "metadata": {},
   "outputs": [
    {
     "name": "stdout",
     "output_type": "stream",
     "text": [
      "IOU 70%\n",
      "\taccuracy = 0.08118081180811808, robustness = 0.7808285211663317\n"
     ]
    }
   ],
   "source": [
    "accuracy, robustness = evaluate(predictions, gt, iou_cutoff=0.7)\n",
    "print(f'IOU 70%\\n\\taccuracy = {accuracy}, robustness = {robustness}')"
   ]
  },
  {
   "cell_type": "markdown",
   "metadata": {},
   "source": [
    "## Subset 2"
   ]
  },
  {
   "cell_type": "code",
   "execution_count": 6,
   "metadata": {
    "scrolled": true
   },
   "outputs": [
    {
     "name": "stdout",
     "output_type": "stream",
     "text": [
      "IOU 30%\n",
      "\taccuracy = 0.9246753246753247, robustness = 0.6669581761108176\n"
     ]
    }
   ],
   "source": [
    "frames_folder = 'VOT2013/david/images'\n",
    "path_gt = 'VOT2013/david/annotations/groundtruth.txt'\n",
    "\n",
    "gt = read_ground_truth(path_gt)\n",
    "# test_ground_truth(frames_folder, gt)\n",
    "\n",
    "predictions = track(frames_folder, gt)\n",
    "\n",
    "accuracy, robustness = evaluate(predictions, gt, iou_cutoff=0.3)\n",
    "print(f'IOU 30%\\n\\taccuracy = {accuracy}, robustness = {robustness}')"
   ]
  },
  {
   "cell_type": "code",
   "execution_count": 7,
   "metadata": {},
   "outputs": [
    {
     "name": "stdout",
     "output_type": "stream",
     "text": [
      "IOU 30%\n",
      "\taccuracy = 0.8662337662337662, robustness = 0.6818068411576903\n"
     ]
    }
   ],
   "source": [
    "accuracy, robustness = evaluate(predictions, gt, iou_cutoff=0.5)\n",
    "print(f'IOU 30%\\n\\taccuracy = {accuracy}, robustness = {robustness}')"
   ]
  },
  {
   "cell_type": "code",
   "execution_count": 8,
   "metadata": {},
   "outputs": [
    {
     "name": "stdout",
     "output_type": "stream",
     "text": [
      "IOU 30%\n",
      "\taccuracy = 0.35974025974025975, robustness = 0.7705182937007977\n"
     ]
    }
   ],
   "source": [
    "accuracy, robustness = evaluate(predictions, gt, iou_cutoff=0.7)\n",
    "print(f'IOU 30%\\n\\taccuracy = {accuracy}, robustness = {robustness}')"
   ]
  },
  {
   "cell_type": "markdown",
   "metadata": {},
   "source": [
    "## Subset 3"
   ]
  },
  {
   "cell_type": "code",
   "execution_count": 26,
   "metadata": {
    "scrolled": true
   },
   "outputs": [
    {
     "name": "stdout",
     "output_type": "stream",
     "text": [
      "IOU 30%\n",
      "\taccuracy = 0.5507246376811594, robustness = 0.49661561592761366\n"
     ]
    }
   ],
   "source": [
    "frames_folder = 'VOT2013/gymnastics/images'\n",
    "path_gt = 'VOT2013/gymnastics/annotations/groundtruth.txt'\n",
    "\n",
    "gt = read_ground_truth(path_gt)\n",
    "# test_ground_truth(frames_folder, gt)\n",
    "\n",
    "predictions = track(frames_folder, gt)\n",
    "\n",
    "accuracy, robustness = evaluate(predictions, gt, iou_cutoff=0.3)\n",
    "print(f'IOU 30%\\n\\taccuracy = {accuracy}, robustness = {robustness}')"
   ]
  },
  {
   "cell_type": "code",
   "execution_count": 27,
   "metadata": {},
   "outputs": [
    {
     "name": "stdout",
     "output_type": "stream",
     "text": [
      "IOU 50%\n",
      "\taccuracy = 0.24154589371980675, robustness = 0.6106562115523673\n"
     ]
    }
   ],
   "source": [
    "accuracy, robustness = evaluate(predictions, gt, iou_cutoff=0.5)\n",
    "print(f'IOU 50%\\n\\taccuracy = {accuracy}, robustness = {robustness}')"
   ]
  },
  {
   "cell_type": "code",
   "execution_count": 28,
   "metadata": {},
   "outputs": [
    {
     "name": "stdout",
     "output_type": "stream",
     "text": [
      "IOU 70%\n",
      "\taccuracy = 0.014492753623188406, robustness = 0.7336065106353042\n"
     ]
    }
   ],
   "source": [
    "accuracy, robustness = evaluate(predictions, gt, iou_cutoff=0.7)\n",
    "print(f'IOU 70%\\n\\taccuracy = {accuracy}, robustness = {robustness}')"
   ]
  },
  {
   "cell_type": "markdown",
   "metadata": {},
   "source": [
    "## Subset 4"
   ]
  },
  {
   "cell_type": "code",
   "execution_count": 41,
   "metadata": {
    "scrolled": true
   },
   "outputs": [
    {
     "name": "stdout",
     "output_type": "stream",
     "text": [
      "IOU 30%\n",
      "\taccuracy = 0.23267326732673269, robustness = 0.6937293938206918\n"
     ]
    }
   ],
   "source": [
    "frames_folder = 'VOT2013/juice/images'\n",
    "path_gt = 'VOT2013/juice/annotations/groundtruth.txt'\n",
    "\n",
    "gt = read_ground_truth(path_gt)\n",
    "# test_ground_truth(frames_folder, gt)\n",
    "\n",
    "predictions = track(frames_folder, gt)\n",
    "\n",
    "accuracy, robustness = evaluate(predictions, gt, iou_cutoff=0.3)\n",
    "print(f'IOU 30%\\n\\taccuracy = {accuracy}, robustness = {robustness}')"
   ]
  },
  {
   "cell_type": "code",
   "execution_count": 39,
   "metadata": {},
   "outputs": [
    {
     "name": "stdout",
     "output_type": "stream",
     "text": [
      "IOU 50%\n",
      "\taccuracy = 0.2998324958123953, robustness = 18.797113145972496\n"
     ]
    }
   ],
   "source": [
    "accuracy, robustness = evaluate(predictions, gt, iou_cutoff=0.5)\n",
    "print(f'IOU 50%\\n\\taccuracy = {accuracy}, robustness = {robustness}')"
   ]
  },
  {
   "cell_type": "code",
   "execution_count": 40,
   "metadata": {},
   "outputs": [
    {
     "name": "stdout",
     "output_type": "stream",
     "text": [
      "IOU 70%\n",
      "\taccuracy = 0.11055276381909548, robustness = 49.93484496129691\n"
     ]
    }
   ],
   "source": [
    "accuracy, robustness = evaluate(predictions, gt, iou_cutoff=0.7)\n",
    "print(f'IOU 70%\\n\\taccuracy = {accuracy}, robustness = {robustness}')"
   ]
  },
  {
   "cell_type": "code",
   "execution_count": null,
   "metadata": {},
   "outputs": [],
   "source": []
  }
 ],
 "metadata": {
  "kernelspec": {
   "display_name": "Python 3",
   "language": "python",
   "name": "python3"
  },
  "language_info": {
   "codemirror_mode": {
    "name": "ipython",
    "version": 3
   },
   "file_extension": ".py",
   "mimetype": "text/x-python",
   "name": "python",
   "nbconvert_exporter": "python",
   "pygments_lexer": "ipython3",
   "version": "3.6.9"
  }
 },
 "nbformat": 4,
 "nbformat_minor": 2
}

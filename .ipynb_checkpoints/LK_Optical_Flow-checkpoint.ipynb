{
 "cells": [
  {
   "cell_type": "markdown",
   "metadata": {},
   "source": [
    "<h1 align=\"center\"> INF6804 Lab 1: Lucas Kanade Optical Flow </h1>\n",
    "<br>\n",
    "<h3 align=\"center\"> Daniel Wang, Oumayma Messoussi </h3>\n",
    "<br>"
   ]
  },
  {
   "cell_type": "code",
   "execution_count": 5,
   "metadata": {},
   "outputs": [],
   "source": [
    "import cv2\n",
    "import numpy as np\n",
    "import glob\n",
    "import argparse\n",
    "import time, datetime\n",
    "from matplotlib import pyplot as plt"
   ]
  },
  {
   "cell_type": "markdown",
   "metadata": {},
   "source": [
    "#### Combining CDNet images into a video using OpenCV"
   ]
  },
  {
   "cell_type": "code",
   "execution_count": 2,
   "metadata": {
    "scrolled": true
   },
   "outputs": [
    {
     "name": "stdout",
     "output_type": "stream",
     "text": [
      "Video compilation for .\\CDNet\\Baseline\n",
      "\tReading input images..\n",
      "\tAll images read\n",
      "\t\tCompiling .\\CDNet\\Baseline.mp4\n",
      "\t\tFPS set to 30\n",
      "\t\tVideo .\\CDNet\\Baseline-30fps.mp4 ready\n",
      "\n",
      "Video compilation for .\\CDNet\\Low Framerate\n",
      "\tReading input images..\n",
      "\tAll images read\n",
      "\t\tCompiling .\\CDNet\\Low Framerate.mp4\n",
      "\t\tFPS set to 1\n",
      "\t\tVideo .\\CDNet\\Low Framerate-1fps.mp4 ready\n",
      "\n",
      "Video compilation for .\\CDNet\\Night Videos\n",
      "\tReading input images..\n",
      "\tAll images read\n",
      "\t\tCompiling .\\CDNet\\Night Videos.mp4\n",
      "\t\tFPS set to 15\n",
      "\t\tVideo .\\CDNet\\Night Videos-15fps.mp4 ready\n",
      "\n"
     ]
    }
   ],
   "source": [
    "# Source: https://theailearner.com/2018/10/15/creating-video-from-images-using-opencv-python/ (with modifications)\n",
    " \n",
    "img_array = []\n",
    "fps = 0\n",
    "\n",
    "for folder in glob.glob('.\\CDNet\\*'):\n",
    "    print('Video compilation for ' + folder)\n",
    "    print('\\tReading input images..')\n",
    "    for filename in glob.glob(folder + '\\*\\input\\*.jpg'):\n",
    "        img = cv2.imread(filename)\n",
    "        height, width, layers = img.shape\n",
    "        size = (width, height)\n",
    "        img_array.append(img)\n",
    "    \n",
    "    print('\\tAll images read')\n",
    "    print('\\t\\tCompiling ' + folder + '.mp4')\n",
    "    \n",
    "    if 'Low' in folder:\n",
    "        fps = 1\n",
    "    elif 'Baseline' in folder:\n",
    "        fps = 30\n",
    "    else:\n",
    "        fps = 15\n",
    "        \n",
    "    print('\\t\\tFPS set to ' + str(fps))\n",
    "    out = cv2.VideoWriter(folder + '-' + str(fps) + 'fps.mp4', cv2.VideoWriter_fourcc(*'DIVX'), fps, size)\n",
    " \n",
    "    for i in range(len(img_array)):\n",
    "        out.write(img_array[i])\n",
    "        \n",
    "    print('\\t\\tVideo ' + folder + '-' + str(fps) + 'fps.mp4 ready\\n')\n",
    "    \n",
    "out.release()"
   ]
  },
  {
   "cell_type": "markdown",
   "metadata": {},
   "source": [
    "### OpenCV Lucas Kanade sparse optical flow test"
   ]
  },
  {
   "cell_type": "code",
   "execution_count": 3,
   "metadata": {},
   "outputs": [
    {
     "ename": "NameError",
     "evalue": "name 'cap' is not defined",
     "output_type": "error",
     "traceback": [
      "\u001b[1;31m---------------------------------------------------------------------------\u001b[0m",
      "\u001b[1;31mNameError\u001b[0m                                 Traceback (most recent call last)",
      "\u001b[1;32m<ipython-input-3-2f31952af44e>\u001b[0m in \u001b[0;36m<module>\u001b[1;34m\u001b[0m\n\u001b[0;32m     80\u001b[0m     \u001b[0mprint\u001b[0m\u001b[1;33m(\u001b[0m\u001b[1;34m'\\tAverage run time for LK optical flow = '\u001b[0m \u001b[1;33m+\u001b[0m \u001b[0mstr\u001b[0m\u001b[1;33m(\u001b[0m\u001b[0mtotal_time\u001b[0m\u001b[1;33m/\u001b[0m\u001b[0mfloat\u001b[0m\u001b[1;33m(\u001b[0m\u001b[0mi\u001b[0m\u001b[1;33m)\u001b[0m\u001b[1;33m)\u001b[0m \u001b[1;33m+\u001b[0m \u001b[1;34m'\\n'\u001b[0m\u001b[1;33m)\u001b[0m\u001b[1;33m\u001b[0m\u001b[1;33m\u001b[0m\u001b[0m\n\u001b[0;32m     81\u001b[0m \u001b[1;33m\u001b[0m\u001b[0m\n\u001b[1;32m---> 82\u001b[1;33m \u001b[0mcap\u001b[0m\u001b[1;33m.\u001b[0m\u001b[0mrelease\u001b[0m\u001b[1;33m(\u001b[0m\u001b[1;33m)\u001b[0m\u001b[1;33m\u001b[0m\u001b[1;33m\u001b[0m\u001b[0m\n\u001b[0m\u001b[0;32m     83\u001b[0m \u001b[0mcv2\u001b[0m\u001b[1;33m.\u001b[0m\u001b[0mdestroyAllWindows\u001b[0m\u001b[1;33m(\u001b[0m\u001b[1;33m)\u001b[0m\u001b[1;33m\u001b[0m\u001b[1;33m\u001b[0m\u001b[0m\n",
      "\u001b[1;31mNameError\u001b[0m: name 'cap' is not defined"
     ]
    }
   ],
   "source": [
    "# Source: https://docs.opencv.org/3.4/d4/dee/tutorial_optical_flow.html (with modifications)\n",
    "\n",
    "# params for ShiTomasi corner detection\n",
    "feature_params = dict( maxCorners = 50,\n",
    "                       qualityLevel = 0.2,\n",
    "                       minDistance = 2,\n",
    "                       blockSize = 7 )\n",
    "\n",
    "# Parameters for lucas kanade optical flow\n",
    "lk_params = dict( winSize  = (15, 15),\n",
    "                  maxLevel = 2,\n",
    "                  criteria = (cv2.TERM_CRITERIA_EPS | cv2.TERM_CRITERIA_COUNT, 10, 0.03))\n",
    "\n",
    "# Create some random colors\n",
    "color = np.random.randint(0, 255, (100, 3))\n",
    "\n",
    "for video_path in glob.glob('.\\CDNet\\*.mp4'):\n",
    "\n",
    "    print('Processing ' + video_path + ' ..')\n",
    "    cap = cv2.VideoCapture(video_path)\n",
    "    \n",
    "    # Take first frame and find corners in it\n",
    "    ret, old_frame = cap.read()\n",
    "    \n",
    "    kp_update = 0\n",
    "    \n",
    "    old_gray = cv2.cvtColor(old_frame, cv2.COLOR_BGR2GRAY)\n",
    "    p0 = cv2.goodFeaturesToTrack(old_gray, mask = None, **feature_params)\n",
    "    \n",
    "    # Create a mask image for drawing purposes\n",
    "    mask = np.zeros_like(old_frame)\n",
    "    \n",
    "    i = 0\n",
    "    total_time = datetime.timedelta(seconds=0)\n",
    "    \n",
    "    while(1):\n",
    "        ret, frame = cap.read()\n",
    "        \n",
    "        kp_update += 1\n",
    "        if ret is True:\n",
    "            frame_gray = cv2.cvtColor(frame, cv2.COLOR_BGR2GRAY)\n",
    "        else:\n",
    "            continue\n",
    "        \n",
    "        # calculate optical flow and run time\n",
    "        prev_time = time.time()\n",
    "        \n",
    "        p1, st, err = cv2.calcOpticalFlowPyrLK(old_gray, frame_gray, p0, None, **lk_params)\n",
    "        \n",
    "        run_time = datetime.timedelta(seconds=time.time() - prev_time)\n",
    "        total_time += run_time\n",
    "        i += 1\n",
    "        \n",
    "        # Select good points\n",
    "        good_new = p1[st==1]\n",
    "        good_old = p0[st==1]\n",
    "        \n",
    "        # draw the tracks\n",
    "        for i, (new, old) in enumerate(zip(good_new, good_old)):\n",
    "            a, b = new.ravel()\n",
    "            c, d = old.ravel()\n",
    "            mask = cv2.line(mask, (a, b), (c, d), color[i].tolist(), 2)\n",
    "            frame = cv2.circle(frame, (a, b), 5, color[i].tolist(), -1)\n",
    "            \n",
    "        img = cv2.add(frame, mask)\n",
    "        cv2.imshow(video_path, img)\n",
    "        \n",
    "        k = cv2.waitKey(60) & 0xff\n",
    "        if k == 27:\n",
    "            break\n",
    "        \n",
    "        # Now update the previous frame and previous points\n",
    "        old_gray = frame_gray.copy()\n",
    "        p0 = good_new.reshape(-1, 1, 2)\n",
    "        \n",
    "        if kp_update == 10:\n",
    "            p0 = cv2.goodFeaturesToTrack(old_gray, mask = None, **feature_params)\n",
    "            kp_update = 0\n",
    "        \n",
    "    print('\\tAverage run time for LK optical flow = ' + str(total_time/float(i)) + '\\n')\n",
    "    \n",
    "cap.release()\n",
    "cv2.destroyAllWindows()"
   ]
  },
  {
   "cell_type": "markdown",
   "metadata": {},
   "source": [
    "<br>\n",
    "\n",
    "### Farneback dense optical flow test"
   ]
  },
  {
   "cell_type": "code",
   "execution_count": 2,
   "metadata": {},
   "outputs": [
    {
     "name": "stdout",
     "output_type": "stream",
     "text": [
      "Processing .\\CDNet\\Baseline ..\n",
      "\tAverage run time for Farneback optical flow = 0:00:00.010573\n",
      "\n",
      "Processing .\\CDNet\\Low Framerate ..\n",
      "\tAverage run time for Farneback optical flow = 0:00:00.008391\n",
      "\n",
      "Processing .\\CDNet\\Night Videos ..\n",
      "\tAverage run time for Farneback optical flow = 0:00:00.037616\n",
      "\n"
     ]
    }
   ],
   "source": [
    "# Source: https://docs.opencv.org/3.4/d4/dee/tutorial_optical_flow.html (with modifications)\n",
    "\n",
    "for subset in glob.glob('.\\CDNet\\*'):\n",
    "\n",
    "    print('Processing ' + subset + ' ..')\n",
    "    \n",
    "    i = 0\n",
    "    \n",
    "    for img in glob.glob(subset+'/*/input/*.jpg'):\n",
    "    \n",
    "        if i == 0:\n",
    "            old_frame = cv2.imread(img)\n",
    "\n",
    "            old_gray = cv2.cvtColor(old_frame, cv2.COLOR_BGR2GRAY)\n",
    "\n",
    "            hsv = np.zeros_like(old_frame)\n",
    "            hsv[...,1] = 255\n",
    "\n",
    "            i += 1\n",
    "            total_time = datetime.timedelta(seconds=0)\n",
    "\n",
    "        else:\n",
    "            i += 1\n",
    "            \n",
    "            frame = cv2.imread(img)\n",
    "\n",
    "            frame_gray = cv2.cvtColor(frame, cv2.COLOR_BGR2GRAY)\n",
    "\n",
    "            # calculate optical flow and run time\n",
    "            prev_time = time.time()\n",
    "\n",
    "            flow = cv2.calcOpticalFlowFarneback(old_gray, frame_gray, None, 0.5, 3, 15, 3, 5, 1.2, 0)\n",
    "\n",
    "            run_time = datetime.timedelta(seconds=time.time() - prev_time)\n",
    "            total_time += run_time\n",
    "            i += 1\n",
    "\n",
    "            mag, ang = cv2.cartToPolar(flow[...,0], flow[...,1])\n",
    "            hsv[...,0] = ang*180/np.pi/2\n",
    "            hsv[...,2] = cv2.normalize(mag,None,0,255,cv2.NORM_MINMAX)\n",
    "            bgr = cv2.cvtColor(hsv, cv2.COLOR_HSV2BGR)\n",
    "\n",
    "            cv2.imshow('orig', frame)\n",
    "            cv2.imshow(subset, bgr)\n",
    "\n",
    "            k = cv2.waitKey(60) & 0xff\n",
    "            if k == 27:\n",
    "                break\n",
    "\n",
    "            old_gray = frame_gray\n",
    "        \n",
    "    print('\\tAverage run time for Farneback optical flow = ' + str(total_time/float(i)) + '\\n')\n",
    "    \n",
    "cv2.destroyAllWindows()"
   ]
  },
  {
   "cell_type": "code",
   "execution_count": null,
   "metadata": {},
   "outputs": [],
   "source": []
  }
 ],
 "metadata": {
  "kernelspec": {
   "display_name": "Python 3",
   "language": "python",
   "name": "python3"
  },
  "language_info": {
   "codemirror_mode": {
    "name": "ipython",
    "version": 3
   },
   "file_extension": ".py",
   "mimetype": "text/x-python",
   "name": "python",
   "nbconvert_exporter": "python",
   "pygments_lexer": "ipython3",
   "version": "3.6.9"
  }
 },
 "nbformat": 4,
 "nbformat_minor": 2
}

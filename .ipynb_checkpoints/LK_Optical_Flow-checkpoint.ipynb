{
 "cells": [
  {
   "cell_type": "markdown",
   "metadata": {},
   "source": [
    "<h1 align=\"center\"> INF6804 Lab 1: Lucas Kanade Optical Flow </h1>\n",
    "<br>\n",
    "<h3 align=\"center\"> Daniel Wang, Oumayma Messoussi </h3>\n",
    "<br>"
   ]
  },
  {
   "cell_type": "code",
   "execution_count": 11,
   "metadata": {},
   "outputs": [],
   "source": [
    "import cv2\n",
    "import numpy as np\n",
    "import glob\n",
    "import argparse"
   ]
  },
  {
   "cell_type": "markdown",
   "metadata": {},
   "source": [
    "#### Combining CDNet images into a video using OpenCV"
   ]
  },
  {
   "cell_type": "code",
   "execution_count": 10,
   "metadata": {},
   "outputs": [
    {
     "name": "stdout",
     "output_type": "stream",
     "text": [
      "Video compilation for .\\CDNet\\Bad Weather\n",
      "\tReading input images..\n",
      "\tAll images read\n",
      "\t\tCompiling .\\CDNet\\Bad Weather.mp4 at 10fps ..\n",
      "\t\tVideo .\\CDNet\\Bad Weather-10fps.mp4 ready\n",
      "\n",
      "Video compilation for .\\CDNet\\Camera Jitter\n",
      "\tReading input images..\n",
      "\tAll images read\n",
      "\t\tCompiling .\\CDNet\\Camera Jitter.mp4 at 10fps ..\n",
      "\t\tVideo .\\CDNet\\Camera Jitter-10fps.mp4 ready\n",
      "\n",
      "Video compilation for .\\CDNet\\Night Videos\n",
      "\tReading input images..\n",
      "\tAll images read\n",
      "\t\tCompiling .\\CDNet\\Night Videos.mp4 at 10fps ..\n",
      "\t\tVideo .\\CDNet\\Night Videos-10fps.mp4 ready\n",
      "\n"
     ]
    }
   ],
   "source": [
    "# Source: https://theailearner.com/2018/10/15/creating-video-from-images-using-opencv-python/ (with modifications)\n",
    " \n",
    "img_array = []\n",
    "fps = 10\n",
    "\n",
    "for folder in glob.glob('.\\CDNet\\*'):\n",
    "    print('Video compilation for ' + folder)\n",
    "    print('\\tReading input images..')\n",
    "    for filename in glob.glob(folder + '\\*\\input\\*.jpg'):\n",
    "        img = cv2.imread(filename)\n",
    "        height, width, layers = img.shape\n",
    "        size = (width, height)\n",
    "        img_array.append(img)\n",
    "    \n",
    "    print('\\tAll images read')\n",
    "    print('\\t\\tCompiling ' + folder + '.mp4 at ' + str(fps) + 'fps ..')\n",
    " \n",
    "    out = cv2.VideoWriter(folder + '-' + str(fps) + 'fps.mp4', cv2.VideoWriter_fourcc(*'DIVX'), fps, size)\n",
    " \n",
    "    for i in range(len(img_array)):\n",
    "        out.write(img_array[i])\n",
    "        \n",
    "    print('\\t\\tVideo ' + folder + '-' + str(fps) + 'fps.mp4 ready\\n')\n",
    "    \n",
    "out.release()"
   ]
  },
  {
   "cell_type": "markdown",
   "metadata": {},
   "source": [
    "#### OpenCV Lucas Kanade optical flow test"
   ]
  },
  {
   "cell_type": "code",
   "execution_count": null,
   "metadata": {},
   "outputs": [],
   "source": [
    "# Source: https://docs.opencv.org/3.4/d4/dee/tutorial_optical_flow.html (with modifications)\n",
    "\n",
    "# params for ShiTomasi corner detection\n",
    "feature_params = dict( maxCorners = 100,\n",
    "                       qualityLevel = 0.3,\n",
    "                       minDistance = 7,\n",
    "                       blockSize = 7 )\n",
    "\n",
    "# Parameters for lucas kanade optical flow\n",
    "lk_params = dict( winSize  = (15,15),\n",
    "                  maxLevel = 2,\n",
    "                  criteria = (cv2.TERM_CRITERIA_EPS | cv2.TERM_CRITERIA_COUNT, 10, 0.03))\n",
    "\n",
    "# Create some random colors\n",
    "color = np.random.randint(0, 255, (100, 3))\n",
    "\n",
    "for video_path in glob.glob('.\\CDNet\\*.mp4'):\n",
    "\n",
    "    print('Reading ' + video_path + ' ..')\n",
    "    cap = cv2.VideoCapture(video_path)\n",
    "    \n",
    "    # Take first frame and find corners in it\n",
    "    ret, old_frame = cap.read()\n",
    "    \n",
    "    old_gray = cv2.cvtColor(old_frame, cv2.COLOR_BGR2GRAY)\n",
    "    p0 = cv2.goodFeaturesToTrack(old_gray, mask = None, **feature_params)\n",
    "    \n",
    "    # Create a mask image for drawing purposes\n",
    "    mask = np.zeros_like(old_frame)\n",
    "    \n",
    "    while(1):\n",
    "        ret, frame = cap.read()\n",
    "        frame_gray = cv2.cvtColor(frame, cv2.COLOR_BGR2GRAY)\n",
    "        \n",
    "        # calculate optical flow\n",
    "        p1, st, err = cv2.calcOpticalFlowPyrLK(old_gray, frame_gray, p0, None, **lk_params)\n",
    "        \n",
    "        # Select good points\n",
    "        good_new = p1[st==1]\n",
    "        good_old = p0[st==1]\n",
    "        \n",
    "        # draw the tracks\n",
    "        for i, (new, old) in enumerate(zip(good_new, good_old)):\n",
    "            a,b = new.ravel()\n",
    "            c,d = old.ravel()\n",
    "            mask = cv2.line(mask, (a, b),(c, d), color[i].tolist(), 2)\n",
    "            frame = cv2.circle(frame, (a, b), 5, color[i].tolist(), -1)\n",
    "            \n",
    "        img = cv2.add(frame, mask)\n",
    "        cv2.imshow('frame', img)\n",
    "        \n",
    "        k = cv2.waitKey(30) & 0xff\n",
    "        if k == 27:\n",
    "            break\n",
    "        \n",
    "        # Now update the previous frame and previous points\n",
    "        old_gray = frame_gray.copy()\n",
    "        p0 = good_new.reshape(-1, 1, 2)"
   ]
  },
  {
   "cell_type": "code",
   "execution_count": null,
   "metadata": {},
   "outputs": [],
   "source": []
  }
 ],
 "metadata": {
  "kernelspec": {
   "display_name": "Python 3",
   "language": "python",
   "name": "python3"
  },
  "language_info": {
   "codemirror_mode": {
    "name": "ipython",
    "version": 3
   },
   "file_extension": ".py",
   "mimetype": "text/x-python",
   "name": "python",
   "nbconvert_exporter": "python",
   "pygments_lexer": "ipython3",
   "version": "3.6.9"
  }
 },
 "nbformat": 4,
 "nbformat_minor": 2
}
